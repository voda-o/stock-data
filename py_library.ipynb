{
 "cells": [
  {
   "cell_type": "markdown",
   "id": "59568061-48a5-4fe2-a167-8562cca066f4",
   "metadata": {},
   "source": [
    "<h1>Extracting Stock Data Using a Python Library</h1>\n"
   ]
  },
  {
   "cell_type": "code",
   "execution_count": 3,
   "id": "61f92f66-debb-4fb5-80c3-d22d935703ff",
   "metadata": {
    "scrolled": true
   },
   "outputs": [
    {
     "name": "stdout",
     "output_type": "stream",
     "text": [
      "Requirement already satisfied: yfinance in c:\\python310\\lib\\site-packages (0.2.41)\n",
      "Requirement already satisfied: pandas>=1.3.0 in c:\\python310\\lib\\site-packages (from yfinance) (2.2.2)\n",
      "Requirement already satisfied: numpy>=1.16.5 in c:\\python310\\lib\\site-packages (from yfinance) (2.0.1)\n",
      "Requirement already satisfied: requests>=2.31 in c:\\python310\\lib\\site-packages (from yfinance) (2.32.3)\n",
      "Requirement already satisfied: multitasking>=0.0.7 in c:\\python310\\lib\\site-packages (from yfinance) (0.0.11)\n",
      "Requirement already satisfied: lxml>=4.9.1 in c:\\python310\\lib\\site-packages (from yfinance) (5.2.2)\n",
      "Requirement already satisfied: platformdirs>=2.0.0 in c:\\python310\\lib\\site-packages (from yfinance) (4.2.2)\n",
      "Requirement already satisfied: pytz>=2022.5 in c:\\python310\\lib\\site-packages (from yfinance) (2024.1)\n",
      "Requirement already satisfied: frozendict>=2.3.4 in c:\\python310\\lib\\site-packages (from yfinance) (2.4.4)\n",
      "Requirement already satisfied: peewee>=3.16.2 in c:\\python310\\lib\\site-packages (from yfinance) (3.17.6)\n",
      "Requirement already satisfied: beautifulsoup4>=4.11.1 in c:\\python310\\lib\\site-packages (from yfinance) (4.12.3)\n",
      "Requirement already satisfied: html5lib>=1.1 in c:\\python310\\lib\\site-packages (from yfinance) (1.1)\n",
      "Requirement already satisfied: soupsieve>1.2 in c:\\python310\\lib\\site-packages (from beautifulsoup4>=4.11.1->yfinance) (2.5)\n",
      "Requirement already satisfied: six>=1.9 in c:\\python310\\lib\\site-packages (from html5lib>=1.1->yfinance) (1.16.0)\n",
      "Requirement already satisfied: webencodings in c:\\python310\\lib\\site-packages (from html5lib>=1.1->yfinance) (0.5.1)\n",
      "Requirement already satisfied: python-dateutil>=2.8.2 in c:\\python310\\lib\\site-packages (from pandas>=1.3.0->yfinance) (2.9.0.post0)\n",
      "Requirement already satisfied: tzdata>=2022.7 in c:\\python310\\lib\\site-packages (from pandas>=1.3.0->yfinance) (2024.1)\n",
      "Requirement already satisfied: charset-normalizer<4,>=2 in c:\\python310\\lib\\site-packages (from requests>=2.31->yfinance) (3.3.2)\n",
      "Requirement already satisfied: idna<4,>=2.5 in c:\\python310\\lib\\site-packages (from requests>=2.31->yfinance) (3.7)\n",
      "Requirement already satisfied: urllib3<3,>=1.21.1 in c:\\python310\\lib\\site-packages (from requests>=2.31->yfinance) (2.2.2)\n",
      "Requirement already satisfied: certifi>=2017.4.17 in c:\\python310\\lib\\site-packages (from requests>=2.31->yfinance) (2024.7.4)\n",
      "Requirement already satisfied: pandas in c:\\python310\\lib\\site-packages (2.2.2)\n",
      "Requirement already satisfied: numpy>=1.22.4 in c:\\python310\\lib\\site-packages (from pandas) (2.0.1)\n",
      "Requirement already satisfied: python-dateutil>=2.8.2 in c:\\python310\\lib\\site-packages (from pandas) (2.9.0.post0)\n",
      "Requirement already satisfied: pytz>=2020.1 in c:\\python310\\lib\\site-packages (from pandas) (2024.1)\n",
      "Requirement already satisfied: tzdata>=2022.7 in c:\\python310\\lib\\site-packages (from pandas) (2024.1)\n",
      "Requirement already satisfied: six>=1.5 in c:\\python310\\lib\\site-packages (from python-dateutil>=2.8.2->pandas) (1.16.0)\n",
      "Requirement already satisfied: matplotlib in c:\\python310\\lib\\site-packages (3.9.1.post1)\n",
      "Requirement already satisfied: contourpy>=1.0.1 in c:\\python310\\lib\\site-packages (from matplotlib) (1.2.1)\n",
      "Requirement already satisfied: cycler>=0.10 in c:\\python310\\lib\\site-packages (from matplotlib) (0.12.1)\n",
      "Requirement already satisfied: fonttools>=4.22.0 in c:\\python310\\lib\\site-packages (from matplotlib) (4.53.1)\n",
      "Requirement already satisfied: kiwisolver>=1.3.1 in c:\\python310\\lib\\site-packages (from matplotlib) (1.4.5)\n",
      "Requirement already satisfied: numpy>=1.23 in c:\\python310\\lib\\site-packages (from matplotlib) (2.0.1)\n",
      "Requirement already satisfied: packaging>=20.0 in c:\\python310\\lib\\site-packages (from matplotlib) (24.1)\n",
      "Requirement already satisfied: pillow>=8 in c:\\python310\\lib\\site-packages (from matplotlib) (10.4.0)\n",
      "Requirement already satisfied: pyparsing>=2.3.1 in c:\\python310\\lib\\site-packages (from matplotlib) (3.1.2)\n",
      "Requirement already satisfied: python-dateutil>=2.7 in c:\\python310\\lib\\site-packages (from matplotlib) (2.9.0.post0)\n",
      "Requirement already satisfied: six>=1.5 in c:\\python310\\lib\\site-packages (from python-dateutil>=2.7->matplotlib) (1.16.0)\n"
     ]
    }
   ],
   "source": [
    "!pip install yfinance\n",
    "!pip install pandas\n",
    "!pip install matplotlib"
   ]
  },
  {
   "cell_type": "code",
   "execution_count": 4,
   "id": "c8f3a7a2-9ec2-4fb2-95e6-74e803ee02c5",
   "metadata": {},
   "outputs": [],
   "source": [
    "import yfinance as yf"
   ]
  },
  {
   "cell_type": "markdown",
   "id": "1b9e1d57-899a-4906-82ac-d3d15fa9565f",
   "metadata": {},
   "source": [
    "<h3>Using the yfinance Library to Extract Stock Data</h3>"
   ]
  },
  {
   "cell_type": "markdown",
   "id": "643ea889-dd6f-4a3a-8fb0-fee36d66dfaf",
   "metadata": {},
   "source": [
    "Using the `Ticker` module we can create an object that will allow us to access functions to extract data. \n",
    "To do this we need to provide the ticker symbol for the stock.\n",
    "Here the company is Fortinet and the ticker symbol is `FTNT`.\n"
   ]
  },
  {
   "cell_type": "code",
   "execution_count": 5,
   "id": "ddf73b65-49de-4f30-956b-1a31a0df3273",
   "metadata": {},
   "outputs": [],
   "source": [
    "fortinet = yf.Ticker('FTNT')"
   ]
  },
  {
   "cell_type": "code",
   "execution_count": 6,
   "id": "1c67face-dd27-419b-98f1-c221f1f67192",
   "metadata": {
    "scrolled": true
   },
   "outputs": [
    {
     "data": {
      "text/plain": [
       "yfinance.Ticker object <FTNT>"
      ]
     },
     "execution_count": 6,
     "metadata": {},
     "output_type": "execute_result"
    }
   ],
   "source": [
    "fortinet"
   ]
  },
  {
   "cell_type": "markdown",
   "id": "d6b23a73-22e4-4660-b2a9-5de7fc07c0f7",
   "metadata": {},
   "source": [
    "Now we can access functions and variables to extract the type of data we need. "
   ]
  },
  {
   "cell_type": "code",
   "execution_count": 7,
   "id": "f6d7aa1e-3e6c-4770-867a-6fff842b8fe8",
   "metadata": {},
   "outputs": [
    {
     "data": {
      "text/plain": [
       "{'address1': '909 Kifer Road',\n",
       " 'city': 'Sunnyvale',\n",
       " 'state': 'CA',\n",
       " 'zip': '94086',\n",
       " 'country': 'United States',\n",
       " 'phone': '408-235-7700',\n",
       " 'fax': '408-235-7737',\n",
       " 'website': 'https://www.fortinet.com',\n",
       " 'industry': 'Software - Infrastructure',\n",
       " 'industryKey': 'software-infrastructure',\n",
       " 'industryDisp': 'Software - Infrastructure',\n",
       " 'sector': 'Technology',\n",
       " 'sectorKey': 'technology',\n",
       " 'sectorDisp': 'Technology',\n",
       " 'longBusinessSummary': 'Fortinet, Inc. provides cybersecurity and convergence of networking and security solutions worldwide. It offers secure networking solutions focus on the convergence of networking and security; network firewall solutions that consist of FortiGate data centers, hyperscale, and distributed firewalls, as well as encrypted applications; wireless LAN solutions; and secure connectivity solutions, including FortiSwitch secure ethernet switches, FortiAP wireless local area network access points, FortiExtender 5G connectivity gateways, and other products. The company also provides the Fortinet Unified SASE solutions that include firewall, SD-WAN, Secure web gateway, cloud access services broker, data loss prevention, zero trust network access, and cloud security, including web application firewalls, virtualized firewalls, and cloud-native firewalls. In addition, it offers security operations solutions comprising FortiAI generative AI assistant, FortiSIEM security information and event management, FortiSOAR security orchestration, automation and response, FortiEDR endpoint detection and response, FortiXDR extended detection and response, FortiMDR managed detection and response service, FortiNDR network detection and response, FortiRecon digital risk protection, FortiDeceptor deception technology, FortiGuard SoCaaS, FortiSandbox sandboxing, FortiGuard incident response, and other products. Further, the company offers FortiGuard security services consisting of FortiGuard application security, content security, device security, NOC/SOC security, and web security services; FortiCare technical support services; and training services to customers and channel partners, as well as operates a FortiGuard Lab, a cybersecurity threat intelligence and research organization. It serves enterprise, communication and security service providers, government organizations, and small and medium-sized businesses. The company was incorporated in 2000 and is headquartered in Sunnyvale, California.',\n",
       " 'fullTimeEmployees': 13527,\n",
       " 'companyOfficers': [{'maxAge': 1,\n",
       "   'name': 'Mr. Ken  Xie',\n",
       "   'age': 60,\n",
       "   'title': 'Founder, Chairman & CEO',\n",
       "   'yearBorn': 1963,\n",
       "   'fiscalYear': 2023,\n",
       "   'totalPay': 1219921,\n",
       "   'exercisedValue': 7946342,\n",
       "   'unexercisedValue': 126691184},\n",
       "  {'maxAge': 1,\n",
       "   'name': 'Mr. Michael  Xie',\n",
       "   'age': 54,\n",
       "   'title': 'Founder, President, CTO & Director',\n",
       "   'yearBorn': 1969,\n",
       "   'fiscalYear': 2023,\n",
       "   'totalPay': 716402,\n",
       "   'exercisedValue': 24354196,\n",
       "   'unexercisedValue': 48629652},\n",
       "  {'maxAge': 1,\n",
       "   'name': 'Mr. Keith F. Jensen',\n",
       "   'age': 64,\n",
       "   'title': 'Chief Financial Officer',\n",
       "   'yearBorn': 1959,\n",
       "   'fiscalYear': 2023,\n",
       "   'totalPay': 851818,\n",
       "   'exercisedValue': 5194139,\n",
       "   'unexercisedValue': 247689},\n",
       "  {'maxAge': 1,\n",
       "   'name': 'Mr. John  Whittle',\n",
       "   'age': 54,\n",
       "   'title': 'COO & Corporate Secretary',\n",
       "   'yearBorn': 1969,\n",
       "   'fiscalYear': 2023,\n",
       "   'totalPay': 786917,\n",
       "   'exercisedValue': 0,\n",
       "   'unexercisedValue': 12014831},\n",
       "  {'maxAge': 1,\n",
       "   'name': 'Ms. Christiane  Ohlgart',\n",
       "   'age': 55,\n",
       "   'title': 'Chief Accounting Officer & Principal Accounting Officer',\n",
       "   'yearBorn': 1968,\n",
       "   'fiscalYear': 2023,\n",
       "   'exercisedValue': 0,\n",
       "   'unexercisedValue': 0},\n",
       "  {'maxAge': 1,\n",
       "   'name': 'Mr. John  Maddison',\n",
       "   'title': 'Chief Marketing Officer',\n",
       "   'fiscalYear': 2023,\n",
       "   'exercisedValue': 0,\n",
       "   'unexercisedValue': 0},\n",
       "  {'maxAge': 1,\n",
       "   'name': 'Mr. Chris  Perna',\n",
       "   'title': 'Vice President of Talent Acquisition',\n",
       "   'fiscalYear': 2023,\n",
       "   'exercisedValue': 0,\n",
       "   'unexercisedValue': 0},\n",
       "  {'maxAge': 1,\n",
       "   'name': 'Mr. Matthew  Pley',\n",
       "   'title': 'Executive Vice President of America Sales',\n",
       "   'fiscalYear': 2023,\n",
       "   'exercisedValue': 0,\n",
       "   'unexercisedValue': 0},\n",
       "  {'maxAge': 1,\n",
       "   'name': 'Mr. Robert  May',\n",
       "   'title': 'Executive Vice President of Technology & Product Management',\n",
       "   'fiscalYear': 2023,\n",
       "   'exercisedValue': 0,\n",
       "   'unexercisedValue': 0},\n",
       "  {'maxAge': 1,\n",
       "   'name': 'Mr. Joe  Sarno',\n",
       "   'title': 'Executive Vice President of International Sales',\n",
       "   'fiscalYear': 2023,\n",
       "   'exercisedValue': 0,\n",
       "   'unexercisedValue': 0}],\n",
       " 'auditRisk': 5,\n",
       " 'boardRisk': 8,\n",
       " 'compensationRisk': 5,\n",
       " 'shareHolderRightsRisk': 5,\n",
       " 'overallRisk': 6,\n",
       " 'governanceEpochDate': 1722470400,\n",
       " 'compensationAsOfEpochDate': 1703980800,\n",
       " 'maxAge': 86400,\n",
       " 'priceHint': 2,\n",
       " 'previousClose': 72.79,\n",
       " 'open': 73.29,\n",
       " 'dayLow': 72.5257,\n",
       " 'dayHigh': 73.83,\n",
       " 'regularMarketPreviousClose': 72.79,\n",
       " 'regularMarketOpen': 73.29,\n",
       " 'regularMarketDayLow': 72.5257,\n",
       " 'regularMarketDayHigh': 73.83,\n",
       " 'beta': 0.979,\n",
       " 'trailingPE': 43.153847,\n",
       " 'forwardPE': 32.558037,\n",
       " 'volume': 1817409,\n",
       " 'regularMarketVolume': 1817409,\n",
       " 'averageVolume': 5659098,\n",
       " 'averageVolume10days': 8685790,\n",
       " 'averageDailyVolume10Day': 8685790,\n",
       " 'bid': 72.81,\n",
       " 'ask': 73.04,\n",
       " 'bidSize': 100,\n",
       " 'askSize': 100,\n",
       " 'marketCap': 55784742912,\n",
       " 'fiftyTwoWeekLow': 44.12,\n",
       " 'fiftyTwoWeekHigh': 73.91,\n",
       " 'priceToSalesTrailing12Months': 10.074358,\n",
       " 'fiftyDayAverage': 60.309,\n",
       " 'twoHundredDayAverage': 61.51755,\n",
       " 'currency': 'USD',\n",
       " 'enterpriseValue': 53414551552,\n",
       " 'profitMargins': 0.23709999,\n",
       " 'floatShares': 642912810,\n",
       " 'sharesOutstanding': 764908032,\n",
       " 'sharesShort': 17112888,\n",
       " 'sharesShortPriorMonth': 16057460,\n",
       " 'sharesShortPreviousMonthDate': 1719532800,\n",
       " 'dateShortInterest': 1722384000,\n",
       " 'sharesPercentSharesOut': 0.0224,\n",
       " 'heldPercentInsiders': 0.17491,\n",
       " 'heldPercentInstitutions': 0.70158994,\n",
       " 'shortRatio': 3.62,\n",
       " 'shortPercentOfFloat': 0.0271,\n",
       " 'impliedSharesOutstanding': 764908032,\n",
       " 'bookValue': 0.377,\n",
       " 'priceToBook': 193.44827,\n",
       " 'lastFiscalYearEnd': 1703980800,\n",
       " 'nextFiscalYearEnd': 1735603200,\n",
       " 'mostRecentQuarter': 1719705600,\n",
       " 'earningsQuarterlyGrowth': 0.426,\n",
       " 'netIncomeToCommon': 1312899968,\n",
       " 'trailingEps': 1.69,\n",
       " 'forwardEps': 2.24,\n",
       " 'pegRatio': 2.33,\n",
       " 'lastSplitFactor': '5:1',\n",
       " 'lastSplitDate': 1655942400,\n",
       " 'enterpriseToRevenue': 9.646,\n",
       " 'enterpriseToEbitda': 34.269,\n",
       " '52WeekChange': 0.2678976,\n",
       " 'SandP52WeekChange': 0.24822903,\n",
       " 'exchange': 'NMS',\n",
       " 'quoteType': 'EQUITY',\n",
       " 'symbol': 'FTNT',\n",
       " 'underlyingSymbol': 'FTNT',\n",
       " 'shortName': 'Fortinet, Inc.',\n",
       " 'longName': 'Fortinet, Inc.',\n",
       " 'firstTradeDateEpochUtc': 1258554600,\n",
       " 'timeZoneFullName': 'America/New_York',\n",
       " 'timeZoneShortName': 'EDT',\n",
       " 'uuid': '8fc5534b-9ba8-33ef-872b-7b68698408fd',\n",
       " 'messageBoardId': 'finmb_2689126',\n",
       " 'gmtOffSetMilliseconds': -14400000,\n",
       " 'currentPrice': 72.93,\n",
       " 'targetHighPrice': 91.5,\n",
       " 'targetLowPrice': 59.0,\n",
       " 'targetMeanPrice': 72.76,\n",
       " 'targetMedianPrice': 70.0,\n",
       " 'recommendationMean': 2.5,\n",
       " 'recommendationKey': 'buy',\n",
       " 'numberOfAnalystOpinions': 36,\n",
       " 'totalCash': 3339300096,\n",
       " 'totalCashPerShare': 4.366,\n",
       " 'ebitda': 1558700032,\n",
       " 'totalDebt': 1076199936,\n",
       " 'quickRatio': 1.187,\n",
       " 'currentRatio': 1.321,\n",
       " 'totalRevenue': 5537299968,\n",
       " 'debtToEquity': 373.421,\n",
       " 'revenuePerShare': 7.209,\n",
       " 'returnOnAssets': 0.11603,\n",
       " 'returnOnEquity': 4.30883,\n",
       " 'freeCashflow': 1411337472,\n",
       " 'operatingCashflow': 1915299968,\n",
       " 'earningsGrowth': 0.485,\n",
       " 'revenueGrowth': 0.109,\n",
       " 'grossMargins': 0.78089,\n",
       " 'ebitdaMargins': 0.28149,\n",
       " 'operatingMargins': 0.30398,\n",
       " 'financialCurrency': 'USD',\n",
       " 'trailingPegRatio': 1.8498}"
      ]
     },
     "execution_count": 7,
     "metadata": {},
     "output_type": "execute_result"
    }
   ],
   "source": [
    "info = fortinet.info\n",
    "info"
   ]
  },
  {
   "cell_type": "code",
   "execution_count": 8,
   "id": "7856837c-1523-4d33-bb03-6590f592a9e0",
   "metadata": {},
   "outputs": [],
   "source": [
    "import json"
   ]
  },
  {
   "cell_type": "code",
   "execution_count": 11,
   "id": "4cca87f3-b873-4e20-b3e0-85d1a5c1b260",
   "metadata": {},
   "outputs": [
    {
     "data": {
      "text/plain": [
       "'{\"address1\": \"909 Kifer Road\", \"city\": \"Sunnyvale\", \"state\": \"CA\", \"zip\": \"94086\", \"country\": \"United States\", \"phone\": \"408-235-7700\", \"fax\": \"408-235-7737\", \"website\": \"https://www.fortinet.com\", \"industry\": \"Software - Infrastructure\", \"industryKey\": \"software-infrastructure\", \"industryDisp\": \"Software - Infrastructure\", \"sector\": \"Technology\", \"sectorKey\": \"technology\", \"sectorDisp\": \"Technology\", \"longBusinessSummary\": \"Fortinet, Inc. provides cybersecurity and convergence of networking and security solutions worldwide. It offers secure networking solutions focus on the convergence of networking and security; network firewall solutions that consist of FortiGate data centers, hyperscale, and distributed firewalls, as well as encrypted applications; wireless LAN solutions; and secure connectivity solutions, including FortiSwitch secure ethernet switches, FortiAP wireless local area network access points, FortiExtender 5G connectivity gateways, and other products. The company also provides the Fortinet Unified SASE solutions that include firewall, SD-WAN, Secure web gateway, cloud access services broker, data loss prevention, zero trust network access, and cloud security, including web application firewalls, virtualized firewalls, and cloud-native firewalls. In addition, it offers security operations solutions comprising FortiAI generative AI assistant, FortiSIEM security information and event management, FortiSOAR security orchestration, automation and response, FortiEDR endpoint detection and response, FortiXDR extended detection and response, FortiMDR managed detection and response service, FortiNDR network detection and response, FortiRecon digital risk protection, FortiDeceptor deception technology, FortiGuard SoCaaS, FortiSandbox sandboxing, FortiGuard incident response, and other products. Further, the company offers FortiGuard security services consisting of FortiGuard application security, content security, device security, NOC/SOC security, and web security services; FortiCare technical support services; and training services to customers and channel partners, as well as operates a FortiGuard Lab, a cybersecurity threat intelligence and research organization. It serves enterprise, communication and security service providers, government organizations, and small and medium-sized businesses. The company was incorporated in 2000 and is headquartered in Sunnyvale, California.\", \"fullTimeEmployees\": 13527, \"companyOfficers\": [{\"maxAge\": 1, \"name\": \"Mr. Ken  Xie\", \"age\": 60, \"title\": \"Founder, Chairman & CEO\", \"yearBorn\": 1963, \"fiscalYear\": 2023, \"totalPay\": 1219921, \"exercisedValue\": 7946342, \"unexercisedValue\": 126691184}, {\"maxAge\": 1, \"name\": \"Mr. Michael  Xie\", \"age\": 54, \"title\": \"Founder, President, CTO & Director\", \"yearBorn\": 1969, \"fiscalYear\": 2023, \"totalPay\": 716402, \"exercisedValue\": 24354196, \"unexercisedValue\": 48629652}, {\"maxAge\": 1, \"name\": \"Mr. Keith F. Jensen\", \"age\": 64, \"title\": \"Chief Financial Officer\", \"yearBorn\": 1959, \"fiscalYear\": 2023, \"totalPay\": 851818, \"exercisedValue\": 5194139, \"unexercisedValue\": 247689}, {\"maxAge\": 1, \"name\": \"Mr. John  Whittle\", \"age\": 54, \"title\": \"COO & Corporate Secretary\", \"yearBorn\": 1969, \"fiscalYear\": 2023, \"totalPay\": 786917, \"exercisedValue\": 0, \"unexercisedValue\": 12014831}, {\"maxAge\": 1, \"name\": \"Ms. Christiane  Ohlgart\", \"age\": 55, \"title\": \"Chief Accounting Officer & Principal Accounting Officer\", \"yearBorn\": 1968, \"fiscalYear\": 2023, \"exercisedValue\": 0, \"unexercisedValue\": 0}, {\"maxAge\": 1, \"name\": \"Mr. John  Maddison\", \"title\": \"Chief Marketing Officer\", \"fiscalYear\": 2023, \"exercisedValue\": 0, \"unexercisedValue\": 0}, {\"maxAge\": 1, \"name\": \"Mr. Chris  Perna\", \"title\": \"Vice President of Talent Acquisition\", \"fiscalYear\": 2023, \"exercisedValue\": 0, \"unexercisedValue\": 0}, {\"maxAge\": 1, \"name\": \"Mr. Matthew  Pley\", \"title\": \"Executive Vice President of America Sales\", \"fiscalYear\": 2023, \"exercisedValue\": 0, \"unexercisedValue\": 0}, {\"maxAge\": 1, \"name\": \"Mr. Robert  May\", \"title\": \"Executive Vice President of Technology & Product Management\", \"fiscalYear\": 2023, \"exercisedValue\": 0, \"unexercisedValue\": 0}, {\"maxAge\": 1, \"name\": \"Mr. Joe  Sarno\", \"title\": \"Executive Vice President of International Sales\", \"fiscalYear\": 2023, \"exercisedValue\": 0, \"unexercisedValue\": 0}], \"auditRisk\": 5, \"boardRisk\": 8, \"compensationRisk\": 5, \"shareHolderRightsRisk\": 5, \"overallRisk\": 6, \"governanceEpochDate\": 1722470400, \"compensationAsOfEpochDate\": 1703980800, \"maxAge\": 86400, \"priceHint\": 2, \"previousClose\": 72.79, \"open\": 73.29, \"dayLow\": 72.5257, \"dayHigh\": 73.83, \"regularMarketPreviousClose\": 72.79, \"regularMarketOpen\": 73.29, \"regularMarketDayLow\": 72.5257, \"regularMarketDayHigh\": 73.83, \"beta\": 0.979, \"trailingPE\": 43.153847, \"forwardPE\": 32.558037, \"volume\": 1817409, \"regularMarketVolume\": 1817409, \"averageVolume\": 5659098, \"averageVolume10days\": 8685790, \"averageDailyVolume10Day\": 8685790, \"bid\": 72.81, \"ask\": 73.04, \"bidSize\": 100, \"askSize\": 100, \"marketCap\": 55784742912, \"fiftyTwoWeekLow\": 44.12, \"fiftyTwoWeekHigh\": 73.91, \"priceToSalesTrailing12Months\": 10.074358, \"fiftyDayAverage\": 60.309, \"twoHundredDayAverage\": 61.51755, \"currency\": \"USD\", \"enterpriseValue\": 53414551552, \"profitMargins\": 0.23709999, \"floatShares\": 642912810, \"sharesOutstanding\": 764908032, \"sharesShort\": 17112888, \"sharesShortPriorMonth\": 16057460, \"sharesShortPreviousMonthDate\": 1719532800, \"dateShortInterest\": 1722384000, \"sharesPercentSharesOut\": 0.0224, \"heldPercentInsiders\": 0.17491, \"heldPercentInstitutions\": 0.70158994, \"shortRatio\": 3.62, \"shortPercentOfFloat\": 0.0271, \"impliedSharesOutstanding\": 764908032, \"bookValue\": 0.377, \"priceToBook\": 193.44827, \"lastFiscalYearEnd\": 1703980800, \"nextFiscalYearEnd\": 1735603200, \"mostRecentQuarter\": 1719705600, \"earningsQuarterlyGrowth\": 0.426, \"netIncomeToCommon\": 1312899968, \"trailingEps\": 1.69, \"forwardEps\": 2.24, \"pegRatio\": 2.33, \"lastSplitFactor\": \"5:1\", \"lastSplitDate\": 1655942400, \"enterpriseToRevenue\": 9.646, \"enterpriseToEbitda\": 34.269, \"52WeekChange\": 0.2678976, \"SandP52WeekChange\": 0.24822903, \"exchange\": \"NMS\", \"quoteType\": \"EQUITY\", \"symbol\": \"FTNT\", \"underlyingSymbol\": \"FTNT\", \"shortName\": \"Fortinet, Inc.\", \"longName\": \"Fortinet, Inc.\", \"firstTradeDateEpochUtc\": 1258554600, \"timeZoneFullName\": \"America/New_York\", \"timeZoneShortName\": \"EDT\", \"uuid\": \"8fc5534b-9ba8-33ef-872b-7b68698408fd\", \"messageBoardId\": \"finmb_2689126\", \"gmtOffSetMilliseconds\": -14400000, \"currentPrice\": 72.93, \"targetHighPrice\": 91.5, \"targetLowPrice\": 59.0, \"targetMeanPrice\": 72.76, \"targetMedianPrice\": 70.0, \"recommendationMean\": 2.5, \"recommendationKey\": \"buy\", \"numberOfAnalystOpinions\": 36, \"totalCash\": 3339300096, \"totalCashPerShare\": 4.366, \"ebitda\": 1558700032, \"totalDebt\": 1076199936, \"quickRatio\": 1.187, \"currentRatio\": 1.321, \"totalRevenue\": 5537299968, \"debtToEquity\": 373.421, \"revenuePerShare\": 7.209, \"returnOnAssets\": 0.11603, \"returnOnEquity\": 4.30883, \"freeCashflow\": 1411337472, \"operatingCashflow\": 1915299968, \"earningsGrowth\": 0.485, \"revenueGrowth\": 0.109, \"grossMargins\": 0.78089, \"ebitdaMargins\": 0.28149, \"operatingMargins\": 0.30398, \"financialCurrency\": \"USD\", \"trailingPegRatio\": 1.8498}'"
      ]
     },
     "execution_count": 11,
     "metadata": {},
     "output_type": "execute_result"
    }
   ],
   "source": [
    "# convert the data to json\n",
    "json.dumps(info)"
   ]
  },
  {
   "cell_type": "code",
   "execution_count": 12,
   "id": "9dcf6d44-425b-4a8e-992a-732d0a8fa89d",
   "metadata": {},
   "outputs": [],
   "source": [
    "# write data to a json file\n",
    "with open('result.json', 'w') as fp:\n",
    "    json.dump(info, fp)"
   ]
  },
  {
   "cell_type": "markdown",
   "id": "6c429a55-b7a6-4ce3-b862-837f6a6ea90c",
   "metadata": {},
   "source": [
    "### Stock Info\n",
    "Using the attribute  <code>info</code> we can extract information about the stock as a Python dictionary.\n"
   ]
  },
  {
   "cell_type": "code",
   "execution_count": 13,
   "id": "7ae62c6d-ab53-47ae-b9b5-ef8ba1b6440f",
   "metadata": {},
   "outputs": [
    {
     "name": "stdout",
     "output_type": "stream",
     "text": [
      "Type: <class 'dict'>\n"
     ]
    }
   ],
   "source": [
    "with open('result.json') as json_file:\n",
    "    fortinet_info = json.load(json_file)\n",
    "    # print the type of data variable    \n",
    "    print(\"Type:\", type(fortinet_info))"
   ]
  },
  {
   "cell_type": "code",
   "execution_count": 14,
   "id": "30287c38-7bfc-4fe2-9439-347482b23880",
   "metadata": {},
   "outputs": [
    {
     "data": {
      "text/plain": [
       "{'address1': '909 Kifer Road',\n",
       " 'city': 'Sunnyvale',\n",
       " 'state': 'CA',\n",
       " 'zip': '94086',\n",
       " 'country': 'United States',\n",
       " 'phone': '408-235-7700',\n",
       " 'fax': '408-235-7737',\n",
       " 'website': 'https://www.fortinet.com',\n",
       " 'industry': 'Software - Infrastructure',\n",
       " 'industryKey': 'software-infrastructure',\n",
       " 'industryDisp': 'Software - Infrastructure',\n",
       " 'sector': 'Technology',\n",
       " 'sectorKey': 'technology',\n",
       " 'sectorDisp': 'Technology',\n",
       " 'longBusinessSummary': 'Fortinet, Inc. provides cybersecurity and convergence of networking and security solutions worldwide. It offers secure networking solutions focus on the convergence of networking and security; network firewall solutions that consist of FortiGate data centers, hyperscale, and distributed firewalls, as well as encrypted applications; wireless LAN solutions; and secure connectivity solutions, including FortiSwitch secure ethernet switches, FortiAP wireless local area network access points, FortiExtender 5G connectivity gateways, and other products. The company also provides the Fortinet Unified SASE solutions that include firewall, SD-WAN, Secure web gateway, cloud access services broker, data loss prevention, zero trust network access, and cloud security, including web application firewalls, virtualized firewalls, and cloud-native firewalls. In addition, it offers security operations solutions comprising FortiAI generative AI assistant, FortiSIEM security information and event management, FortiSOAR security orchestration, automation and response, FortiEDR endpoint detection and response, FortiXDR extended detection and response, FortiMDR managed detection and response service, FortiNDR network detection and response, FortiRecon digital risk protection, FortiDeceptor deception technology, FortiGuard SoCaaS, FortiSandbox sandboxing, FortiGuard incident response, and other products. Further, the company offers FortiGuard security services consisting of FortiGuard application security, content security, device security, NOC/SOC security, and web security services; FortiCare technical support services; and training services to customers and channel partners, as well as operates a FortiGuard Lab, a cybersecurity threat intelligence and research organization. It serves enterprise, communication and security service providers, government organizations, and small and medium-sized businesses. The company was incorporated in 2000 and is headquartered in Sunnyvale, California.',\n",
       " 'fullTimeEmployees': 13527,\n",
       " 'companyOfficers': [{'maxAge': 1,\n",
       "   'name': 'Mr. Ken  Xie',\n",
       "   'age': 60,\n",
       "   'title': 'Founder, Chairman & CEO',\n",
       "   'yearBorn': 1963,\n",
       "   'fiscalYear': 2023,\n",
       "   'totalPay': 1219921,\n",
       "   'exercisedValue': 7946342,\n",
       "   'unexercisedValue': 126691184},\n",
       "  {'maxAge': 1,\n",
       "   'name': 'Mr. Michael  Xie',\n",
       "   'age': 54,\n",
       "   'title': 'Founder, President, CTO & Director',\n",
       "   'yearBorn': 1969,\n",
       "   'fiscalYear': 2023,\n",
       "   'totalPay': 716402,\n",
       "   'exercisedValue': 24354196,\n",
       "   'unexercisedValue': 48629652},\n",
       "  {'maxAge': 1,\n",
       "   'name': 'Mr. Keith F. Jensen',\n",
       "   'age': 64,\n",
       "   'title': 'Chief Financial Officer',\n",
       "   'yearBorn': 1959,\n",
       "   'fiscalYear': 2023,\n",
       "   'totalPay': 851818,\n",
       "   'exercisedValue': 5194139,\n",
       "   'unexercisedValue': 247689},\n",
       "  {'maxAge': 1,\n",
       "   'name': 'Mr. John  Whittle',\n",
       "   'age': 54,\n",
       "   'title': 'COO & Corporate Secretary',\n",
       "   'yearBorn': 1969,\n",
       "   'fiscalYear': 2023,\n",
       "   'totalPay': 786917,\n",
       "   'exercisedValue': 0,\n",
       "   'unexercisedValue': 12014831},\n",
       "  {'maxAge': 1,\n",
       "   'name': 'Ms. Christiane  Ohlgart',\n",
       "   'age': 55,\n",
       "   'title': 'Chief Accounting Officer & Principal Accounting Officer',\n",
       "   'yearBorn': 1968,\n",
       "   'fiscalYear': 2023,\n",
       "   'exercisedValue': 0,\n",
       "   'unexercisedValue': 0},\n",
       "  {'maxAge': 1,\n",
       "   'name': 'Mr. John  Maddison',\n",
       "   'title': 'Chief Marketing Officer',\n",
       "   'fiscalYear': 2023,\n",
       "   'exercisedValue': 0,\n",
       "   'unexercisedValue': 0},\n",
       "  {'maxAge': 1,\n",
       "   'name': 'Mr. Chris  Perna',\n",
       "   'title': 'Vice President of Talent Acquisition',\n",
       "   'fiscalYear': 2023,\n",
       "   'exercisedValue': 0,\n",
       "   'unexercisedValue': 0},\n",
       "  {'maxAge': 1,\n",
       "   'name': 'Mr. Matthew  Pley',\n",
       "   'title': 'Executive Vice President of America Sales',\n",
       "   'fiscalYear': 2023,\n",
       "   'exercisedValue': 0,\n",
       "   'unexercisedValue': 0},\n",
       "  {'maxAge': 1,\n",
       "   'name': 'Mr. Robert  May',\n",
       "   'title': 'Executive Vice President of Technology & Product Management',\n",
       "   'fiscalYear': 2023,\n",
       "   'exercisedValue': 0,\n",
       "   'unexercisedValue': 0},\n",
       "  {'maxAge': 1,\n",
       "   'name': 'Mr. Joe  Sarno',\n",
       "   'title': 'Executive Vice President of International Sales',\n",
       "   'fiscalYear': 2023,\n",
       "   'exercisedValue': 0,\n",
       "   'unexercisedValue': 0}],\n",
       " 'auditRisk': 5,\n",
       " 'boardRisk': 8,\n",
       " 'compensationRisk': 5,\n",
       " 'shareHolderRightsRisk': 5,\n",
       " 'overallRisk': 6,\n",
       " 'governanceEpochDate': 1722470400,\n",
       " 'compensationAsOfEpochDate': 1703980800,\n",
       " 'maxAge': 86400,\n",
       " 'priceHint': 2,\n",
       " 'previousClose': 72.79,\n",
       " 'open': 73.29,\n",
       " 'dayLow': 72.5257,\n",
       " 'dayHigh': 73.83,\n",
       " 'regularMarketPreviousClose': 72.79,\n",
       " 'regularMarketOpen': 73.29,\n",
       " 'regularMarketDayLow': 72.5257,\n",
       " 'regularMarketDayHigh': 73.83,\n",
       " 'beta': 0.979,\n",
       " 'trailingPE': 43.153847,\n",
       " 'forwardPE': 32.558037,\n",
       " 'volume': 1817409,\n",
       " 'regularMarketVolume': 1817409,\n",
       " 'averageVolume': 5659098,\n",
       " 'averageVolume10days': 8685790,\n",
       " 'averageDailyVolume10Day': 8685790,\n",
       " 'bid': 72.81,\n",
       " 'ask': 73.04,\n",
       " 'bidSize': 100,\n",
       " 'askSize': 100,\n",
       " 'marketCap': 55784742912,\n",
       " 'fiftyTwoWeekLow': 44.12,\n",
       " 'fiftyTwoWeekHigh': 73.91,\n",
       " 'priceToSalesTrailing12Months': 10.074358,\n",
       " 'fiftyDayAverage': 60.309,\n",
       " 'twoHundredDayAverage': 61.51755,\n",
       " 'currency': 'USD',\n",
       " 'enterpriseValue': 53414551552,\n",
       " 'profitMargins': 0.23709999,\n",
       " 'floatShares': 642912810,\n",
       " 'sharesOutstanding': 764908032,\n",
       " 'sharesShort': 17112888,\n",
       " 'sharesShortPriorMonth': 16057460,\n",
       " 'sharesShortPreviousMonthDate': 1719532800,\n",
       " 'dateShortInterest': 1722384000,\n",
       " 'sharesPercentSharesOut': 0.0224,\n",
       " 'heldPercentInsiders': 0.17491,\n",
       " 'heldPercentInstitutions': 0.70158994,\n",
       " 'shortRatio': 3.62,\n",
       " 'shortPercentOfFloat': 0.0271,\n",
       " 'impliedSharesOutstanding': 764908032,\n",
       " 'bookValue': 0.377,\n",
       " 'priceToBook': 193.44827,\n",
       " 'lastFiscalYearEnd': 1703980800,\n",
       " 'nextFiscalYearEnd': 1735603200,\n",
       " 'mostRecentQuarter': 1719705600,\n",
       " 'earningsQuarterlyGrowth': 0.426,\n",
       " 'netIncomeToCommon': 1312899968,\n",
       " 'trailingEps': 1.69,\n",
       " 'forwardEps': 2.24,\n",
       " 'pegRatio': 2.33,\n",
       " 'lastSplitFactor': '5:1',\n",
       " 'lastSplitDate': 1655942400,\n",
       " 'enterpriseToRevenue': 9.646,\n",
       " 'enterpriseToEbitda': 34.269,\n",
       " '52WeekChange': 0.2678976,\n",
       " 'SandP52WeekChange': 0.24822903,\n",
       " 'exchange': 'NMS',\n",
       " 'quoteType': 'EQUITY',\n",
       " 'symbol': 'FTNT',\n",
       " 'underlyingSymbol': 'FTNT',\n",
       " 'shortName': 'Fortinet, Inc.',\n",
       " 'longName': 'Fortinet, Inc.',\n",
       " 'firstTradeDateEpochUtc': 1258554600,\n",
       " 'timeZoneFullName': 'America/New_York',\n",
       " 'timeZoneShortName': 'EDT',\n",
       " 'uuid': '8fc5534b-9ba8-33ef-872b-7b68698408fd',\n",
       " 'messageBoardId': 'finmb_2689126',\n",
       " 'gmtOffSetMilliseconds': -14400000,\n",
       " 'currentPrice': 72.93,\n",
       " 'targetHighPrice': 91.5,\n",
       " 'targetLowPrice': 59.0,\n",
       " 'targetMeanPrice': 72.76,\n",
       " 'targetMedianPrice': 70.0,\n",
       " 'recommendationMean': 2.5,\n",
       " 'recommendationKey': 'buy',\n",
       " 'numberOfAnalystOpinions': 36,\n",
       " 'totalCash': 3339300096,\n",
       " 'totalCashPerShare': 4.366,\n",
       " 'ebitda': 1558700032,\n",
       " 'totalDebt': 1076199936,\n",
       " 'quickRatio': 1.187,\n",
       " 'currentRatio': 1.321,\n",
       " 'totalRevenue': 5537299968,\n",
       " 'debtToEquity': 373.421,\n",
       " 'revenuePerShare': 7.209,\n",
       " 'returnOnAssets': 0.11603,\n",
       " 'returnOnEquity': 4.30883,\n",
       " 'freeCashflow': 1411337472,\n",
       " 'operatingCashflow': 1915299968,\n",
       " 'earningsGrowth': 0.485,\n",
       " 'revenueGrowth': 0.109,\n",
       " 'grossMargins': 0.78089,\n",
       " 'ebitdaMargins': 0.28149,\n",
       " 'operatingMargins': 0.30398,\n",
       " 'financialCurrency': 'USD',\n",
       " 'trailingPegRatio': 1.8498}"
      ]
     },
     "execution_count": 14,
     "metadata": {},
     "output_type": "execute_result"
    }
   ],
   "source": [
    "fortinet_info"
   ]
  },
  {
   "cell_type": "markdown",
   "id": "9ece05c6-14e7-4e4e-92d7-b1aa6b960f58",
   "metadata": {},
   "source": [
    "We can get the 'country' using the key country"
   ]
  },
  {
   "cell_type": "code",
   "execution_count": 15,
   "id": "2384d533-5068-47f7-9066-3de0092c42c0",
   "metadata": {
    "scrolled": true
   },
   "outputs": [
    {
     "data": {
      "text/plain": [
       "'United States'"
      ]
     },
     "execution_count": 15,
     "metadata": {},
     "output_type": "execute_result"
    }
   ],
   "source": [
    "fortinet_info['country']"
   ]
  },
  {
   "cell_type": "code",
   "execution_count": 17,
   "id": "b29a1f2c-df55-481b-985a-277b6e7c1e82",
   "metadata": {},
   "outputs": [
    {
     "data": {
      "text/plain": [
       "'Technology'"
      ]
     },
     "execution_count": 17,
     "metadata": {},
     "output_type": "execute_result"
    }
   ],
   "source": [
    "# get the sector\n",
    "fortinet_info['sector']"
   ]
  },
  {
   "cell_type": "markdown",
   "id": "68b64b43-0abc-4340-9a41-e2722a1cb7f8",
   "metadata": {},
   "source": [
    "### Extracting Share Price\n"
   ]
  },
  {
   "cell_type": "markdown",
   "id": "157e70de-b928-4cef-972e-d83bbca3bb42",
   "metadata": {},
   "source": [
    "Using the history() method we can get the share price of the stock over a certain period of time. Using the period parameter we can set how far back from the present to get data. In this case we will get the share price for the whole time (max). Other options are: 1 day (1d), 5d, 1 month (1mo), 3mo, 6mo, 1 year (1y), 2y, 5y, 10y, ytd."
   ]
  },
  {
   "cell_type": "code",
   "execution_count": 18,
   "id": "5896a4dd-9087-49ec-bd18-3c77bb54ed04",
   "metadata": {},
   "outputs": [],
   "source": [
    "fortinet_share_price_data = fortinet.history(period=\"max\")"
   ]
  },
  {
   "cell_type": "markdown",
   "id": "89303a1e-9b07-4e66-a4a8-dce1cbdc05bf",
   "metadata": {},
   "source": [
    "The format that the data is returned in is a Pandas DataFrame. With the `Date` as the index the share `Open`, `High`, `Low`, `Close`, `Volume`, and `Stock Splits` are given for each day.\n"
   ]
  },
  {
   "cell_type": "code",
   "execution_count": 20,
   "id": "f926bfec-dd3f-4db9-852e-b6c20669cc54",
   "metadata": {},
   "outputs": [
    {
     "data": {
      "text/html": [
       "<div>\n",
       "<style scoped>\n",
       "    .dataframe tbody tr th:only-of-type {\n",
       "        vertical-align: middle;\n",
       "    }\n",
       "\n",
       "    .dataframe tbody tr th {\n",
       "        vertical-align: top;\n",
       "    }\n",
       "\n",
       "    .dataframe thead th {\n",
       "        text-align: right;\n",
       "    }\n",
       "</style>\n",
       "<table border=\"1\" class=\"dataframe\">\n",
       "  <thead>\n",
       "    <tr style=\"text-align: right;\">\n",
       "      <th></th>\n",
       "      <th>Open</th>\n",
       "      <th>High</th>\n",
       "      <th>Low</th>\n",
       "      <th>Close</th>\n",
       "      <th>Volume</th>\n",
       "      <th>Dividends</th>\n",
       "      <th>Stock Splits</th>\n",
       "    </tr>\n",
       "    <tr>\n",
       "      <th>Date</th>\n",
       "      <th></th>\n",
       "      <th></th>\n",
       "      <th></th>\n",
       "      <th></th>\n",
       "      <th></th>\n",
       "      <th></th>\n",
       "      <th></th>\n",
       "    </tr>\n",
       "  </thead>\n",
       "  <tbody>\n",
       "    <tr>\n",
       "      <th>2009-11-18 00:00:00-05:00</th>\n",
       "      <td>1.700000</td>\n",
       "      <td>1.750000</td>\n",
       "      <td>1.633000</td>\n",
       "      <td>1.662000</td>\n",
       "      <td>136704000</td>\n",
       "      <td>0.0</td>\n",
       "      <td>0.0</td>\n",
       "    </tr>\n",
       "    <tr>\n",
       "      <th>2009-11-19 00:00:00-05:00</th>\n",
       "      <td>1.657000</td>\n",
       "      <td>1.712000</td>\n",
       "      <td>1.606000</td>\n",
       "      <td>1.689000</td>\n",
       "      <td>22173000</td>\n",
       "      <td>0.0</td>\n",
       "      <td>0.0</td>\n",
       "    </tr>\n",
       "    <tr>\n",
       "      <th>2009-11-20 00:00:00-05:00</th>\n",
       "      <td>1.688000</td>\n",
       "      <td>1.696000</td>\n",
       "      <td>1.606000</td>\n",
       "      <td>1.694000</td>\n",
       "      <td>11390000</td>\n",
       "      <td>0.0</td>\n",
       "      <td>0.0</td>\n",
       "    </tr>\n",
       "    <tr>\n",
       "      <th>2009-11-23 00:00:00-05:00</th>\n",
       "      <td>1.706000</td>\n",
       "      <td>1.717000</td>\n",
       "      <td>1.660000</td>\n",
       "      <td>1.690000</td>\n",
       "      <td>11858000</td>\n",
       "      <td>0.0</td>\n",
       "      <td>0.0</td>\n",
       "    </tr>\n",
       "    <tr>\n",
       "      <th>2009-11-24 00:00:00-05:00</th>\n",
       "      <td>1.680000</td>\n",
       "      <td>1.705000</td>\n",
       "      <td>1.673000</td>\n",
       "      <td>1.701000</td>\n",
       "      <td>4677000</td>\n",
       "      <td>0.0</td>\n",
       "      <td>0.0</td>\n",
       "    </tr>\n",
       "    <tr>\n",
       "      <th>...</th>\n",
       "      <td>...</td>\n",
       "      <td>...</td>\n",
       "      <td>...</td>\n",
       "      <td>...</td>\n",
       "      <td>...</td>\n",
       "      <td>...</td>\n",
       "      <td>...</td>\n",
       "    </tr>\n",
       "    <tr>\n",
       "      <th>2024-08-09 00:00:00-04:00</th>\n",
       "      <td>68.989998</td>\n",
       "      <td>69.980003</td>\n",
       "      <td>67.970001</td>\n",
       "      <td>69.690002</td>\n",
       "      <td>6988600</td>\n",
       "      <td>0.0</td>\n",
       "      <td>0.0</td>\n",
       "    </tr>\n",
       "    <tr>\n",
       "      <th>2024-08-12 00:00:00-04:00</th>\n",
       "      <td>69.800003</td>\n",
       "      <td>71.540001</td>\n",
       "      <td>69.400002</td>\n",
       "      <td>70.360001</td>\n",
       "      <td>6173300</td>\n",
       "      <td>0.0</td>\n",
       "      <td>0.0</td>\n",
       "    </tr>\n",
       "    <tr>\n",
       "      <th>2024-08-13 00:00:00-04:00</th>\n",
       "      <td>70.320000</td>\n",
       "      <td>71.589996</td>\n",
       "      <td>69.650002</td>\n",
       "      <td>71.500000</td>\n",
       "      <td>5524300</td>\n",
       "      <td>0.0</td>\n",
       "      <td>0.0</td>\n",
       "    </tr>\n",
       "    <tr>\n",
       "      <th>2024-08-14 00:00:00-04:00</th>\n",
       "      <td>71.610001</td>\n",
       "      <td>73.669998</td>\n",
       "      <td>71.440002</td>\n",
       "      <td>72.790001</td>\n",
       "      <td>6098800</td>\n",
       "      <td>0.0</td>\n",
       "      <td>0.0</td>\n",
       "    </tr>\n",
       "    <tr>\n",
       "      <th>2024-08-15 00:00:00-04:00</th>\n",
       "      <td>73.290001</td>\n",
       "      <td>73.830002</td>\n",
       "      <td>72.525703</td>\n",
       "      <td>72.870003</td>\n",
       "      <td>1844643</td>\n",
       "      <td>0.0</td>\n",
       "      <td>0.0</td>\n",
       "    </tr>\n",
       "  </tbody>\n",
       "</table>\n",
       "<p>3709 rows × 7 columns</p>\n",
       "</div>"
      ],
      "text/plain": [
       "                                Open       High        Low      Close  \\\n",
       "Date                                                                    \n",
       "2009-11-18 00:00:00-05:00   1.700000   1.750000   1.633000   1.662000   \n",
       "2009-11-19 00:00:00-05:00   1.657000   1.712000   1.606000   1.689000   \n",
       "2009-11-20 00:00:00-05:00   1.688000   1.696000   1.606000   1.694000   \n",
       "2009-11-23 00:00:00-05:00   1.706000   1.717000   1.660000   1.690000   \n",
       "2009-11-24 00:00:00-05:00   1.680000   1.705000   1.673000   1.701000   \n",
       "...                              ...        ...        ...        ...   \n",
       "2024-08-09 00:00:00-04:00  68.989998  69.980003  67.970001  69.690002   \n",
       "2024-08-12 00:00:00-04:00  69.800003  71.540001  69.400002  70.360001   \n",
       "2024-08-13 00:00:00-04:00  70.320000  71.589996  69.650002  71.500000   \n",
       "2024-08-14 00:00:00-04:00  71.610001  73.669998  71.440002  72.790001   \n",
       "2024-08-15 00:00:00-04:00  73.290001  73.830002  72.525703  72.870003   \n",
       "\n",
       "                              Volume  Dividends  Stock Splits  \n",
       "Date                                                           \n",
       "2009-11-18 00:00:00-05:00  136704000        0.0           0.0  \n",
       "2009-11-19 00:00:00-05:00   22173000        0.0           0.0  \n",
       "2009-11-20 00:00:00-05:00   11390000        0.0           0.0  \n",
       "2009-11-23 00:00:00-05:00   11858000        0.0           0.0  \n",
       "2009-11-24 00:00:00-05:00    4677000        0.0           0.0  \n",
       "...                              ...        ...           ...  \n",
       "2024-08-09 00:00:00-04:00    6988600        0.0           0.0  \n",
       "2024-08-12 00:00:00-04:00    6173300        0.0           0.0  \n",
       "2024-08-13 00:00:00-04:00    5524300        0.0           0.0  \n",
       "2024-08-14 00:00:00-04:00    6098800        0.0           0.0  \n",
       "2024-08-15 00:00:00-04:00    1844643        0.0           0.0  \n",
       "\n",
       "[3709 rows x 7 columns]"
      ]
     },
     "execution_count": 20,
     "metadata": {},
     "output_type": "execute_result"
    }
   ],
   "source": [
    "fortinet_share_price_data"
   ]
  },
  {
   "cell_type": "code",
   "execution_count": 22,
   "id": "c97d1152-1328-486b-a879-c14767412823",
   "metadata": {
    "scrolled": true
   },
   "outputs": [
    {
     "data": {
      "text/html": [
       "<div>\n",
       "<style scoped>\n",
       "    .dataframe tbody tr th:only-of-type {\n",
       "        vertical-align: middle;\n",
       "    }\n",
       "\n",
       "    .dataframe tbody tr th {\n",
       "        vertical-align: top;\n",
       "    }\n",
       "\n",
       "    .dataframe thead th {\n",
       "        text-align: right;\n",
       "    }\n",
       "</style>\n",
       "<table border=\"1\" class=\"dataframe\">\n",
       "  <thead>\n",
       "    <tr style=\"text-align: right;\">\n",
       "      <th></th>\n",
       "      <th>Open</th>\n",
       "      <th>High</th>\n",
       "      <th>Low</th>\n",
       "      <th>Close</th>\n",
       "      <th>Volume</th>\n",
       "      <th>Dividends</th>\n",
       "      <th>Stock Splits</th>\n",
       "    </tr>\n",
       "    <tr>\n",
       "      <th>Date</th>\n",
       "      <th></th>\n",
       "      <th></th>\n",
       "      <th></th>\n",
       "      <th></th>\n",
       "      <th></th>\n",
       "      <th></th>\n",
       "      <th></th>\n",
       "    </tr>\n",
       "  </thead>\n",
       "  <tbody>\n",
       "    <tr>\n",
       "      <th>2009-11-18 00:00:00-05:00</th>\n",
       "      <td>1.700</td>\n",
       "      <td>1.750</td>\n",
       "      <td>1.633</td>\n",
       "      <td>1.662</td>\n",
       "      <td>136704000</td>\n",
       "      <td>0.0</td>\n",
       "      <td>0.0</td>\n",
       "    </tr>\n",
       "    <tr>\n",
       "      <th>2009-11-19 00:00:00-05:00</th>\n",
       "      <td>1.657</td>\n",
       "      <td>1.712</td>\n",
       "      <td>1.606</td>\n",
       "      <td>1.689</td>\n",
       "      <td>22173000</td>\n",
       "      <td>0.0</td>\n",
       "      <td>0.0</td>\n",
       "    </tr>\n",
       "    <tr>\n",
       "      <th>2009-11-20 00:00:00-05:00</th>\n",
       "      <td>1.688</td>\n",
       "      <td>1.696</td>\n",
       "      <td>1.606</td>\n",
       "      <td>1.694</td>\n",
       "      <td>11390000</td>\n",
       "      <td>0.0</td>\n",
       "      <td>0.0</td>\n",
       "    </tr>\n",
       "    <tr>\n",
       "      <th>2009-11-23 00:00:00-05:00</th>\n",
       "      <td>1.706</td>\n",
       "      <td>1.717</td>\n",
       "      <td>1.660</td>\n",
       "      <td>1.690</td>\n",
       "      <td>11858000</td>\n",
       "      <td>0.0</td>\n",
       "      <td>0.0</td>\n",
       "    </tr>\n",
       "    <tr>\n",
       "      <th>2009-11-24 00:00:00-05:00</th>\n",
       "      <td>1.680</td>\n",
       "      <td>1.705</td>\n",
       "      <td>1.673</td>\n",
       "      <td>1.701</td>\n",
       "      <td>4677000</td>\n",
       "      <td>0.0</td>\n",
       "      <td>0.0</td>\n",
       "    </tr>\n",
       "  </tbody>\n",
       "</table>\n",
       "</div>"
      ],
      "text/plain": [
       "                            Open   High    Low  Close     Volume  Dividends  \\\n",
       "Date                                                                          \n",
       "2009-11-18 00:00:00-05:00  1.700  1.750  1.633  1.662  136704000        0.0   \n",
       "2009-11-19 00:00:00-05:00  1.657  1.712  1.606  1.689   22173000        0.0   \n",
       "2009-11-20 00:00:00-05:00  1.688  1.696  1.606  1.694   11390000        0.0   \n",
       "2009-11-23 00:00:00-05:00  1.706  1.717  1.660  1.690   11858000        0.0   \n",
       "2009-11-24 00:00:00-05:00  1.680  1.705  1.673  1.701    4677000        0.0   \n",
       "\n",
       "                           Stock Splits  \n",
       "Date                                     \n",
       "2009-11-18 00:00:00-05:00           0.0  \n",
       "2009-11-19 00:00:00-05:00           0.0  \n",
       "2009-11-20 00:00:00-05:00           0.0  \n",
       "2009-11-23 00:00:00-05:00           0.0  \n",
       "2009-11-24 00:00:00-05:00           0.0  "
      ]
     },
     "execution_count": 22,
     "metadata": {},
     "output_type": "execute_result"
    }
   ],
   "source": [
    "# get the first 5 rows\n",
    "fortinet_share_price_data.head()"
   ]
  },
  {
   "cell_type": "markdown",
   "id": "6c341b6f-8c0c-4604-884b-2d7013350301",
   "metadata": {},
   "source": [
    "We can reset the index of the DataFrame with the `reset_index` function. We also set the `inplace` paramter to `True` so the change takes place to the DataFrame itself.\n"
   ]
  },
  {
   "cell_type": "code",
   "execution_count": 23,
   "id": "326cf4f5-0811-48fd-a516-a92df749c6c0",
   "metadata": {},
   "outputs": [],
   "source": [
    "fortinet_share_price_data.reset_index(inplace=True)"
   ]
  },
  {
   "cell_type": "markdown",
   "id": "2c038c72-76f8-4c29-b177-7ede7c97ded7",
   "metadata": {},
   "source": [
    "We can plot the `Open` price against the `Date`:\n"
   ]
  },
  {
   "cell_type": "code",
   "execution_count": 24,
   "id": "7b90e7b8-4c9c-4375-86b7-8f58d0a10252",
   "metadata": {},
   "outputs": [
    {
     "data": {
      "text/plain": [
       "<Axes: xlabel='Date'>"
      ]
     },
     "execution_count": 24,
     "metadata": {},
     "output_type": "execute_result"
    },
    {
     "data": {
      "image/png": "[encoded data removed]",
      "text/plain": [
       "<Figure size 640x480 with 1 Axes>"
      ]
     },
     "metadata": {},
     "output_type": "display_data"
    }
   ],
   "source": [
    "fortinet_share_price_data.plot(x=\"Date\", y=\"Open\")"
   ]
  },
  {
   "cell_type": "markdown",
   "id": "e95ddbf7-b8a9-4cf9-a5ca-0a04bf48ced0",
   "metadata": {},
   "source": [
    "### Extracting Dividends\n"
   ]
  },
  {
   "cell_type": "markdown",
   "id": "6c3c32da-2ae1-4b2b-91cd-27c64ddbb5b0",
   "metadata": {},
   "source": [
    "Using the variable dividends we can get a dataframe of the data. The period of the data is given by the period defined in the 'history` function."
   ]
  },
  {
   "cell_type": "code",
   "execution_count": 25,
   "id": "be580db4-9a5b-44cf-b83c-55816928ee08",
   "metadata": {},
   "outputs": [
    {
     "data": {
      "text/plain": [
       "Series([], Name: Dividends, dtype: float64)"
      ]
     },
     "execution_count": 25,
     "metadata": {},
     "output_type": "execute_result"
    }
   ],
   "source": [
    "fortinet.dividends"
   ]
  },
  {
   "cell_type": "markdown",
   "id": "444b4870-48ed-446b-92aa-defe5073551b",
   "metadata": {},
   "source": [
    "To plot the dividends overtime we use .plot().  \n",
    "In this case, the Fortinet company does not have dividends. \n"
   ]
  },
  {
   "cell_type": "code",
   "execution_count": 26,
   "id": "a1eb9600-326c-40ed-b881-a60cdc506fbf",
   "metadata": {},
   "outputs": [
    {
     "data": {
      "text/plain": [
       "<Axes: xlabel='Date'>"
      ]
     },
     "execution_count": 26,
     "metadata": {},
     "output_type": "execute_result"
    },
    {
     "data": {
      "image/png": "[encoded data removed]",
      "text/plain": [
       "<Figure size 640x480 with 1 Axes>"
      ]
     },
     "metadata": {},
     "output_type": "display_data"
    }
   ],
   "source": [
    "fortinet.dividends.plot()"
   ]
  },
  {
   "cell_type": "code",
   "execution_count": null,
   "id": "ccaddc2c-b448-4897-900a-ba6de1244efd",
   "metadata": {},
   "outputs": [],
   "source": []
  }
 ],
 "metadata": {
  "kernelspec": {
   "display_name": "Python 3 (ipykernel)",
   "language": "python",
   "name": "python3"
  },
  "language_info": {
   "codemirror_mode": {
    "name": "ipython",
    "version": 3
   },
   "file_extension": ".py",
   "mimetype": "text/x-python",
   "name": "python",
   "nbconvert_exporter": "python",
   "pygments_lexer": "ipython3",
   "version": "3.10.4"
  }
 },
 "nbformat": 4,
 "nbformat_minor": 5
}
